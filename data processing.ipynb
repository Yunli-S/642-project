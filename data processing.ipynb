{
 "cells": [
  {
   "cell_type": "code",
   "execution_count": 1,
   "metadata": {},
   "outputs": [],
   "source": [
    "import pandas as pd"
   ]
  },
  {
   "cell_type": "markdown",
   "metadata": {},
   "source": [
    "# impute missing value"
   ]
  },
  {
   "cell_type": "code",
   "execution_count": 2,
   "metadata": {},
   "outputs": [
    {
     "name": "stderr",
     "output_type": "stream",
     "text": [
      "/var/folders/nc/msb__ldd2wn4c7szd6_lx25r0000gn/T/ipykernel_78759/578285396.py:1: DtypeWarning: Columns (30,36,37,38,41,42,47,48,51,52,58,59,61,62,63,64,66,67,68,69,70,73,80,81,83,84,107,108,109,111,112,130,139) have mixed types. Specify dtype option on import or set low_memory=False.\n",
      "  df = pd.read_csv(\"./final_dataset.csv\")\n"
     ]
    }
   ],
   "source": [
    "df = pd.read_csv(\"./final_dataset.csv\")"
   ]
  },
  {
   "cell_type": "code",
   "execution_count": 3,
   "metadata": {},
   "outputs": [
    {
     "name": "stdout",
     "output_type": "stream",
     "text": [
      "DataFrame after imputation with SimpleImputer (mean):\n",
      "         case_id date_decision   MONTH WEEK_NUM target  birth_259D  \\\n",
      "0              0    2019-01-03  201901        0      0  1986-07-01   \n",
      "1              1    2019-01-03  201901        0      0  1957-08-01   \n",
      "2              2    2019-01-04  201901        0      0  1986-07-01   \n",
      "3              3    2019-01-03  201901        0      0  1986-07-01   \n",
      "4              4    2019-01-04  201901        0      1  1986-07-01   \n",
      "...          ...           ...     ...      ...    ...         ...   \n",
      "1526654  2703450    2020-10-05  202010       91      0  1960-01-01   \n",
      "1526655  2703451    2020-10-05  202010       91      0  1986-07-01   \n",
      "1526656  2703452    2020-10-05  202010       91      0  1977-08-01   \n",
      "1526657  2703453    2020-10-05  202010       91      0  1986-07-01   \n",
      "1526658  2703454    2020-10-05  202010       91      0  1948-04-01   \n",
      "\n",
      "        contaddr_district_15M contaddr_matchlist_1032L  \\\n",
      "0                    a55475b1                    False   \n",
      "1                  P103_93_94                    False   \n",
      "2                    a55475b1                    False   \n",
      "3                    a55475b1                    False   \n",
      "4                    a55475b1                    False   \n",
      "...                       ...                      ...   \n",
      "1526654           P123_39_170                    False   \n",
      "1526655              a55475b1                    False   \n",
      "1526656           P133_44_167                    False   \n",
      "1526657              a55475b1                    False   \n",
      "1526658            P48_127_19                    False   \n",
      "\n",
      "        contaddr_smempladdr_334L contaddr_zipcode_807M  ...  \\\n",
      "0                          False              a55475b1  ...   \n",
      "1                          False           P176_37_166  ...   \n",
      "2                          False              a55475b1  ...   \n",
      "3                          False              a55475b1  ...   \n",
      "4                          False              a55475b1  ...   \n",
      "...                          ...                   ...  ...   \n",
      "1526654                    False            P40_33_175  ...   \n",
      "1526655                    False              a55475b1  ...   \n",
      "1526656                    False            P59_150_74  ...   \n",
      "1526657                    False              a55475b1  ...   \n",
      "1526658                    False           P78_144_175  ...   \n",
      "\n",
      "        mainoccupationinc_437A pmtnum_8L postype_4733339M profession_152M  \\\n",
      "0                      40000.0      12.0         a55475b1        a55475b1   \n",
      "1                      40000.0      12.0         a55475b1        a55475b1   \n",
      "2                       8200.0      24.0         a55475b1        a55475b1   \n",
      "3                      11000.0      12.0         a55475b1        a55475b1   \n",
      "4                      16000.0      24.0         a55475b1        a55475b1   \n",
      "...                        ...       ...              ...             ...   \n",
      "1526654                36000.0      12.0     P177_117_192        a55475b1   \n",
      "1526655                40000.0      12.0       P46_145_78        a55475b1   \n",
      "1526656                34000.0      14.0      P67_102_161        a55475b1   \n",
      "1526657                40000.0      12.0       P46_145_78        a55475b1   \n",
      "1526658                24000.0       6.0     P177_117_192        a55475b1   \n",
      "\n",
      "        rejectreason_755M rejectreasonclient_4145042M status_219L tenor_203L  \\\n",
      "0                a55475b1                    a55475b1           D       12.0   \n",
      "1                a55475b1                    a55475b1           D       12.0   \n",
      "2                a55475b1                    a55475b1           D       24.0   \n",
      "3             P94_109_143                    a55475b1           D       12.0   \n",
      "4                a55475b1                    a55475b1           T       24.0   \n",
      "...                   ...                         ...         ...        ...   \n",
      "1526654          a55475b1                    a55475b1           K       12.0   \n",
      "1526655          a55475b1                    a55475b1           A       12.0   \n",
      "1526656          a55475b1                    a55475b1           T       14.0   \n",
      "1526657          a55475b1                    a55475b1           A       12.0   \n",
      "1526658          a55475b1                    a55475b1           A        6.0   \n",
      "\n",
      "        cacccardblochreas_147M   conts_type_509L  \n",
      "0                     a55475b1    PRIMARY_MOBILE  \n",
      "1                     a55475b1    PRIMARY_MOBILE  \n",
      "2                     a55475b1  EMPLOYMENT_PHONE  \n",
      "3                     a55475b1    PRIMARY_MOBILE  \n",
      "4                     a55475b1        HOME_PHONE  \n",
      "...                        ...               ...  \n",
      "1526654               a55475b1    PRIMARY_MOBILE  \n",
      "1526655               a55475b1    PRIMARY_MOBILE  \n",
      "1526656               a55475b1             PHONE  \n",
      "1526657               a55475b1    PRIMARY_MOBILE  \n",
      "1526658               a55475b1    PRIMARY_MOBILE  \n",
      "\n",
      "[1526659 rows x 141 columns]\n"
     ]
    }
   ],
   "source": [
    "from sklearn.impute import SimpleImputer\n",
    "\n",
    "# Using SimpleImputer to replace missing values with the mean of the column\n",
    "imputer = SimpleImputer(strategy='most_frequent')\n",
    "df_imputed = pd.DataFrame(imputer.fit_transform(df), columns=df.columns)\n",
    "print(\"DataFrame after imputation with SimpleImputer (mean):\")\n",
    "print(df_imputed)"
   ]
  },
  {
   "cell_type": "code",
   "execution_count": 4,
   "metadata": {},
   "outputs": [],
   "source": [
    "df_imputed.to_csv('./final_dataset_imputed.csv')"
   ]
  },
  {
   "cell_type": "markdown",
   "metadata": {},
   "source": [
    "# process the categorical Variables "
   ]
  },
  {
   "cell_type": "markdown",
   "metadata": {},
   "source": [
    "## one-hot (fail)"
   ]
  },
  {
   "cell_type": "code",
   "execution_count": 5,
   "metadata": {},
   "outputs": [],
   "source": [
    "import pandas as pd\n",
    "from sklearn.preprocessing import OneHotEncoder, OrdinalEncoder\n",
    "\n",
    "def detect_categorical_variables(df, unique_threshold=10):\n",
    "    categorical_columns = []\n",
    "    for column in df.columns:\n",
    "        if df[column].dtype == 'object' or df[column].dtype.name == 'category':\n",
    "            categorical_columns.append(column)\n",
    "        elif df[column].nunique() < unique_threshold:\n",
    "            # Assuming numerical column with low cardinality might be categorical\n",
    "            categorical_columns.append(column)\n",
    "    return categorical_columns\n",
    "\n",
    "def encode_categorical_variables(df, categorical_columns):\n",
    "    encoder = OneHotEncoder(sparse=False)\n",
    "    for column in categorical_columns:\n",
    "        # One-hot encode the column\n",
    "        encoded_data = encoder.fit_transform(df[[column]])\n",
    "        # Create a DataFrame with encoded columns\n",
    "        encoded_df = pd.DataFrame(encoded_data, columns=[f\"{column}_{cat}\" for cat in encoder.categories_[0]])\n",
    "        # Drop original column and concatenate the new DataFrame\n",
    "        df = df.drop(column, axis=1).join(encoded_df)\n",
    "    return df"
   ]
  },
  {
   "cell_type": "code",
   "execution_count": 6,
   "metadata": {},
   "outputs": [
    {
     "name": "stdout",
     "output_type": "stream",
     "text": [
      "Categorical Columns: ['case_id', 'date_decision', 'MONTH', 'WEEK_NUM', 'target', 'birth_259D', 'contaddr_district_15M', 'contaddr_matchlist_1032L', 'contaddr_smempladdr_334L', 'contaddr_zipcode_807M', 'education_927M', 'empladdr_district_926M', 'empladdr_zipcode_114M', 'incometype_1044T', 'language1_981M', 'mainoccupationinc_384A', 'personindex_1023L', 'persontype_1072L', 'persontype_792L', 'registaddr_district_1083M', 'registaddr_zipcode_184M', 'role_1084L', 'safeguarantyflag_411L', 'sex_738L', 'type_25L', 'addres_district_368M', 'addres_zip_823M', 'conts_role_79M', 'empls_economicalst_849M', 'empls_employer_name_740M', 'dateofbirth_337D', 'days120_123L', 'days180_256L', 'days30_165L', 'days360_512L', 'days90_310L', 'description_5085714M', 'education_1103M', 'education_88M', 'firstquarter_103L', 'fourthquarter_440L', 'maritalst_385M', 'maritalst_893M', 'numberofqueries_373L', 'secondquarter_766L', 'thirdquarter_1082L', 'Unnamed: 0', 'collater_typofvalofguarant_298M', 'collater_typofvalofguarant_407M', 'collater_valueofguarantee_1124L', 'collater_valueofguarantee_876L', 'collaterals_typeofguarante_359M', 'collaterals_typeofguarante_669M', 'num_group2', 'pmts_month_158T', 'pmts_month_706T', 'pmts_year_1139T', 'pmts_year_507T', 'subjectroles_name_541M', 'subjectroles_name_838M', 'Unnamed: 0.1', 'classificationofcontr_13M', 'classificationofcontr_400M', 'contractst_545M', 'contractst_964M', 'credlmt_935A', 'dateofcredend_289D', 'dateofcredend_353D', 'dateofcredstart_181D', 'dateofcredstart_739D', 'dateofrealrepmt_138D', 'debtoutstand_525A', 'debtoverdue_47A', 'description_351M', 'dpdmax_139P', 'dpdmax_757P', 'dpdmaxdatemonth_442T', 'dpdmaxdatemonth_89T', 'dpdmaxdateyear_596T', 'dpdmaxdateyear_896T', 'financialinstitution_382M', 'financialinstitution_591M', 'instlamount_768A', 'lastupdate_1112D', 'lastupdate_388D', 'monthlyinstlamount_332A', 'monthlyinstlamount_674A', 'numberofcontrsvalue_258L', 'numberofcontrsvalue_358L', 'numberofinstls_229L', 'numberofoutstandinstls_520L', 'numberofoverdueinstlmax_1039L', 'numberofoverdueinstlmax_1151L', 'numberofoverdueinstls_725L', 'numberofoverdueinstls_834L', 'outstandingamount_354A', 'overdueamount_31A', 'overdueamount_659A', 'overdueamountmax2_14A', 'overdueamountmax2_398A', 'overdueamountmax_155A', 'overdueamountmax_35A', 'overdueamountmaxdatemonth_284T', 'overdueamountmaxdatemonth_365T', 'overdueamountmaxdateyear_2T', 'overdueamountmaxdateyear_994T', 'periodicityofpmts_1102L', 'purposeofcred_426M', 'purposeofcred_874M', 'refreshdate_3813885D', 'residualamount_856A', 'subjectrole_182M', 'subjectrole_93M', 'totalamount_6A', 'totaldebtoverduevalue_178A', 'totaldebtoverduevalue_718A', 'totaloutstanddebtvalue_39A', 'totaloutstanddebtvalue_668A', 'actualdpd_943P', 'annuity_853A', 'cancelreason_3545846M', 'creationdate_885D', 'credacc_credlmt_575A', 'credamount_590A', 'credtype_587L', 'district_544M', 'downpmt_134A', 'education_1138M', 'firstnonzeroinstldate_307D', 'inittransactioncode_279L', 'isbidproduct_390L', 'mainoccupationinc_437A', 'pmtnum_8L', 'postype_4733339M', 'profession_152M', 'rejectreason_755M', 'rejectreasonclient_4145042M', 'status_219L', 'tenor_203L', 'cacccardblochreas_147M', 'conts_type_509L']\n"
     ]
    },
    {
     "name": "stderr",
     "output_type": "stream",
     "text": [
      "/Users/sylvia/anaconda3/lib/python3.10/site-packages/sklearn/preprocessing/_encoders.py:828: FutureWarning: `sparse` was renamed to `sparse_output` in version 1.2 and will be removed in 1.4. `sparse_output` is ignored unless you leave `sparse` to its default value.\n",
      "  warnings.warn(\n"
     ]
    }
   ],
   "source": [
    "df = pd.read_csv('./final_dataset_imputed.csv')\n",
    "\n",
    "# Detecting categorical variables\n",
    "categorical_columns = detect_categorical_variables(df_imputed)\n",
    "print(\"Categorical Columns:\", categorical_columns)\n",
    "\n",
    "# Encoding categorical variables\n",
    "encoded_df = encode_categorical_variables(df_imputed, categorical_columns)\n",
    "print(\"Encoded DataFrame:\")\n",
    "print(encoded_df)"
   ]
  },
  {
   "cell_type": "markdown",
   "metadata": {},
   "source": [
    "# label encoding"
   ]
  },
  {
   "cell_type": "code",
   "execution_count": 4,
   "metadata": {},
   "outputs": [],
   "source": [
    "from sklearn.preprocessing import LabelEncoder\n",
    "df = pd.read_csv('./final_dataset_imputed.csv')"
   ]
  },
  {
   "cell_type": "code",
   "execution_count": 7,
   "metadata": {},
   "outputs": [],
   "source": [
    "# Function to detect and encode categorical variables\n",
    "def detect_and_encode_categorical_variables(df):\n",
    "    label_encoders = {}\n",
    "    for column in df.columns:\n",
    "        if df[column].dtype == 'object'or df[column].nunique() < 10:  # Assuming all 'object' types are categorical\n",
    "            le = LabelEncoder()\n",
    "            df[column] = le.fit_transform(df[column])\n",
    "            label_encoders[column] = le  # Store encoder to reverse encoding or encode new data\n",
    "    return df, label_encoders\n",
    "\n",
    "# Step 2: Detect and encode categorical variables\n",
    "encoded_df, encoders = detect_and_encode_categorical_variables(df)"
   ]
  },
  {
   "cell_type": "code",
   "execution_count": 9,
   "metadata": {},
   "outputs": [],
   "source": [
    "encoded_df.to_csv('./final_dataset_imputed_label.csv')"
   ]
  },
  {
   "cell_type": "code",
   "execution_count": null,
   "metadata": {},
   "outputs": [],
   "source": []
  }
 ],
 "metadata": {
  "kernelspec": {
   "display_name": "base",
   "language": "python",
   "name": "python3"
  },
  "language_info": {
   "codemirror_mode": {
    "name": "ipython",
    "version": 3
   },
   "file_extension": ".py",
   "mimetype": "text/x-python",
   "name": "python",
   "nbconvert_exporter": "python",
   "pygments_lexer": "ipython3",
   "version": "3.10.9"
  }
 },
 "nbformat": 4,
 "nbformat_minor": 2
}
